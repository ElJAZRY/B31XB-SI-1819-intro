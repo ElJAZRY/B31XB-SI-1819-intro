{
 "cells": [
  {
   "cell_type": "markdown",
   "metadata": {},
   "source": [
    "What we will cover in this notebook:\n",
    "* list, tuple, dictionaries\n",
    "* set-comprehensions\n",
    "* loops, iterators \n",
    "* main function"
   ]
  },
  {
   "cell_type": "code",
   "execution_count": 1,
   "metadata": {
    "collapsed": true
   },
   "outputs": [],
   "source": [
    "%matplotlib inline\n",
    "import numpy as np\n",
    "from itertools import product \n"
   ]
  },
  {
   "cell_type": "markdown",
   "metadata": {},
   "source": [
    "## Control-flow"
   ]
  },
  {
   "cell_type": "markdown",
   "metadata": {},
   "source": [
    "<div class=\"alert alert-success\">\n",
    "\n",
    "<b>EXERCISE-1</b>:\n",
    "<ul>\n",
    "\n",
    "<li> Write a function which checks if a list has some element, similarly checks that a list is empty</li>\n",
    "</ul>\n",
    "\n",
    "</div>"
   ]
  },
  {
   "cell_type": "code",
   "execution_count": 9,
   "metadata": {},
   "outputs": [],
   "source": [
    "def check_a(a):\n",
    "    if not a:\n",
    "        print('a is empty')\n",
    "    else:\n",
    "        print('a is not empty')"
   ]
  },
  {
   "cell_type": "code",
   "execution_count": 10,
   "metadata": {},
   "outputs": [
    {
     "name": "stdout",
     "output_type": "stream",
     "text": [
      "a is empty\n"
     ]
    }
   ],
   "source": [
    "a = []\n",
    "check_a(a)"
   ]
  },
  {
   "cell_type": "code",
   "execution_count": 11,
   "metadata": {},
   "outputs": [
    {
     "name": "stdout",
     "output_type": "stream",
     "text": [
      "a is not empty\n"
     ]
    }
   ],
   "source": [
    "a = [1, 2, 3]\n",
    "check_a(a)"
   ]
  },
  {
   "cell_type": "markdown",
   "metadata": {},
   "source": [
    "<div class=\"alert alert-success\">\n",
    "\n",
    "<b>EXERCISE-2</b>:\n",
    "<ul>\n",
    "<li> Write a statement to check the same for an integer, check your statements, when your integer is 0</li>\n",
    "</ul>\n",
    "</div>"
   ]
  },
  {
   "cell_type": "code",
   "execution_count": 16,
   "metadata": {},
   "outputs": [
    {
     "name": "stdout",
     "output_type": "stream",
     "text": [
      "a is not empty\n"
     ]
    }
   ],
   "source": [
    "a = 1\n",
    "if a :\n",
    "    print('a is not empty')\n",
    "else:\n",
    "    print('a is empty')"
   ]
  },
  {
   "cell_type": "code",
   "execution_count": 17,
   "metadata": {},
   "outputs": [
    {
     "name": "stdout",
     "output_type": "stream",
     "text": [
      "a is empty\n"
     ]
    }
   ],
   "source": [
    "a = 0\n",
    "if a :\n",
    "    print('a is not empty')\n",
    "else:\n",
    "    print('a is empty')"
   ]
  },
  {
   "cell_type": "markdown",
   "metadata": {},
   "source": [
    "<div class=\"alert alert-success\">\n",
    "\n",
    "<b>EXERCISE-3</b>:\n",
    "<ul>\n",
    "\n",
    "<l> Considering the following lits, tuple:</l>\n",
    "<l> `month_index = [1, 2, 3, 4, 5]`,   `month_name=('Jan', 'Feb', 'Mar', 'Apr', 'May')`</l>\n",
    "<l> perform the following tasks:</l>\n",
    "<li>In two different ways iterate over the list and print each element </li>\n",
    "</ul>\n",
    "\n",
    "</div>"
   ]
  },
  {
   "cell_type": "code",
   "execution_count": 18,
   "metadata": {},
   "outputs": [
    {
     "name": "stdout",
     "output_type": "stream",
     "text": [
      "month index is 1\n",
      "month index is 2\n",
      "month index is 3\n",
      "month index is 4\n",
      "month index is 5\n"
     ]
    }
   ],
   "source": [
    "month_index = [1, 2, 3, 4, 5]\n",
    "for m_idx in month_index: \n",
    "    print('month index is {}'.format(m_idx))"
   ]
  },
  {
   "cell_type": "code",
   "execution_count": 19,
   "metadata": {},
   "outputs": [
    {
     "name": "stdout",
     "output_type": "stream",
     "text": [
      "month index is 1\n",
      "month index is 2\n",
      "month index is 3\n",
      "month index is 4\n",
      "month index is 5\n"
     ]
    }
   ],
   "source": [
    "for i in range(len(month_index)):\n",
    "    print('month index is {}'.format(month_index[i]))"
   ]
  },
  {
   "cell_type": "markdown",
   "metadata": {},
   "source": [
    "<div class=\"alert alert-success\">\n",
    "\n",
    "<li>Iterate over the tuple and print the month names</li>\n",
    "\n",
    "</div>"
   ]
  },
  {
   "cell_type": "code",
   "execution_count": 21,
   "metadata": {},
   "outputs": [
    {
     "name": "stdout",
     "output_type": "stream",
     "text": [
      "The month is Jan\n",
      "The month is Feb\n",
      "The month is Mar\n",
      "The month is Apr\n",
      "The month is May\n"
     ]
    }
   ],
   "source": [
    "month_name =('Jan', 'Feb', 'Mar', 'Apr', 'May')\n",
    "for m_name in month_name:\n",
    "    print('The month is {}'.format(m_name))"
   ]
  },
  {
   "cell_type": "markdown",
   "metadata": {},
   "source": [
    "<div class=\"alert alert-success\">\n",
    "\n",
    "<li>Iterate over the month_index and month_name and create a dictionary `month_dict` using **set-comprehension** and **zip**</li>\n",
    "</div>"
   ]
  },
  {
   "cell_type": "code",
   "execution_count": 26,
   "metadata": {},
   "outputs": [
    {
     "name": "stdout",
     "output_type": "stream",
     "text": [
      "{'Jan': 1, 'Feb': 2, 'Mar': 3, 'Apr': 4, 'May': 5}\n"
     ]
    }
   ],
   "source": [
    "month_dict={key:value for key, value in zip(month_name, month_index)}\n",
    "print(month_dict)"
   ]
  },
  {
   "cell_type": "markdown",
   "metadata": {},
   "source": [
    "<div class=\"alert alert-success\">\n",
    "\n",
    "<b>EXERCISE-4</b>:\n",
    "<ul>\n",
    "<l>considering the year index list `year_index=[2016, 2017, 2018]` and `month_index` and `month_name`</l>\n",
    "<li>Using **`zip`**, **`set-comprehension`**, and **`product`** from `itertools` in a way to get the following output</li>\n",
    "\n",
    "<li>```(2016, ('Jan', 1))\n",
    "(2016, ('Feb', 2))\n",
    "(2016, ('Mar', 3))\n",
    "(2016, ('Apr', 4))\n",
    "(2016, ('May', 5))\n",
    "(2017, ('Jan', 1))\n",
    "(2017, ('Feb', 2))\n",
    "(2017, ('Mar', 3))\n",
    "(2017, ('Apr', 4))\n",
    "(2017, ('May', 5))\n",
    "(2018, ('Jan', 1))\n",
    "(2018, ('Feb', 2))\n",
    "(2018, ('Mar', 3))\n",
    "(2018, ('Apr', 4))\n",
    "(2018, ('May', 5))```</li>\n",
    "</ul>\n",
    "</div>"
   ]
  },
  {
   "cell_type": "code",
   "execution_count": 35,
   "metadata": {},
   "outputs": [
    {
     "name": "stdout",
     "output_type": "stream",
     "text": [
      "[('Jan', 1), ('Feb', 2), ('Mar', 3), ('Apr', 4), ('May', 5)]\n"
     ]
    }
   ],
   "source": [
    "year_index = [2016, 2017, 2018]\n",
    "month = [(m_name, m_idx) for m_name, m_idx in zip(month_name, month_index)]\n",
    "print(month)"
   ]
  },
  {
   "cell_type": "code",
   "execution_count": 36,
   "metadata": {},
   "outputs": [],
   "source": [
    "a = [(y_idx, elm ) for y_idx, elm in product(year_index, month)]"
   ]
  },
  {
   "cell_type": "code",
   "execution_count": 37,
   "metadata": {},
   "outputs": [
    {
     "name": "stdout",
     "output_type": "stream",
     "text": [
      "(2016, ('Jan', 1))\n",
      "(2016, ('Feb', 2))\n",
      "(2016, ('Mar', 3))\n",
      "(2016, ('Apr', 4))\n",
      "(2016, ('May', 5))\n",
      "(2017, ('Jan', 1))\n",
      "(2017, ('Feb', 2))\n",
      "(2017, ('Mar', 3))\n",
      "(2017, ('Apr', 4))\n",
      "(2017, ('May', 5))\n",
      "(2018, ('Jan', 1))\n",
      "(2018, ('Feb', 2))\n",
      "(2018, ('Mar', 3))\n",
      "(2018, ('Apr', 4))\n",
      "(2018, ('May', 5))\n"
     ]
    }
   ],
   "source": [
    "a = [print(a) for a in a]"
   ]
  },
  {
   "cell_type": "markdown",
   "metadata": {},
   "source": [
    "## Main function"
   ]
  },
  {
   "cell_type": "markdown",
   "metadata": {},
   "source": [
    "<div class=\"alert alert-success\">\n",
    "\n",
    "<b>EXERCISE-5</b>:\n",
    "<ul>\n",
    "<l>Write a python script **`print_int_lists.py`** in script folder, which is able to accept a input from the user and print the integers up to the user requested input </l>\n",
    "\n",
    "</ul>\n",
    "</div>"
   ]
  },
  {
   "cell_type": "code",
   "execution_count": 40,
   "metadata": {},
   "outputs": [
    {
     "name": "stdout",
     "output_type": "stream",
     "text": [
      "[0, 1, 2, 3, 4, 5, 6, 7, 8, 9]\n"
     ]
    }
   ],
   "source": [
    "run script/print_int_lists.py 10"
   ]
  },
  {
   "cell_type": "code",
   "execution_count": null,
   "metadata": {
    "collapsed": true
   },
   "outputs": [],
   "source": []
  }
 ],
 "metadata": {
  "kernelspec": {
   "display_name": "Python 3",
   "language": "python",
   "name": "python3"
  },
  "language_info": {
   "codemirror_mode": {
    "name": "ipython",
    "version": 3
   },
   "file_extension": ".py",
   "mimetype": "text/x-python",
   "name": "python",
   "nbconvert_exporter": "python",
   "pygments_lexer": "ipython3",
   "version": "3.6.4"
  }
 },
 "nbformat": 4,
 "nbformat_minor": 2
}
